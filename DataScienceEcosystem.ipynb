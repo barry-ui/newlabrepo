{
  "metadata": {
    "kernelspec": {
      "name": "python",
      "display_name": "Python (Pyodide)",
      "language": "python"
    },
    "language_info": {
      "codemirror_mode": {
        "name": "python",
        "version": 3
      },
      "file_extension": ".py",
      "mimetype": "text/x-python",
      "name": "python",
      "nbconvert_exporter": "python",
      "pygments_lexer": "ipython3",
      "version": "3.8"
    }
  },
  "nbformat_minor": 5,
  "nbformat": 4,
  "cells": [
    {
      "id": "55a09db6-4b52-4750-8590-93b3598bb8af",
      "cell_type": "markdown",
      "source": "# H1 1-Data Science Tools and Ecosystems",
      "metadata": {
        "tags": [],
        "editable": true,
        "slideshow": {
          "slide_type": ""
        }
      }
    },
    {
      "id": "b457a657-57cc-48aa-9d5a-0e65321ec105",
      "cell_type": "markdown",
      "source": "# H2 2-title",
      "metadata": {
        "tags": [],
        "editable": true,
        "slideshow": {
          "slide_type": ""
        }
      }
    },
    {
      "id": "933bb9f8-1d9a-45df-92b6-41ca947fdccf",
      "cell_type": "markdown",
      "source": "# H3 3-intro",
      "metadata": {}
    },
    {
      "id": "c917c5a0-4a37-442e-bb51-b7043bdd347e",
      "cell_type": "markdown",
      "source": "**bold text*\n_bold ext_b>bold text\n<strong> bold text</strong>\n<b>bold text</b>\n# Some of the key takeaways from this course\n# Objectives: \n* Identify the criteria and roles for determining language to learn.\n* Identify the users and benefits of Pyhton.\n* Identify the users and uses of the R language.\n* Define SQL elements and list their benefits.\n* Review languages such as Java,Scala,C++, JavaScript, and Julia.\n* List the global communities for connecting with other users.\n                                  ",
      "metadata": {}
    },
    {
      "id": "7bbd3fb2-a605-4fa9-8b67-124ae2226dc0",
      "cell_type": "markdown",
      "source": "#H2 Author Name\n    Clay Newburn",
      "metadata": {}
    },
    {
      "id": "a7316c6e-79ff-4c65-bff7-138a1d792f19",
      "cell_type": "markdown",
      "source": "H3 4-Some of the popular languages that Data Scientists use are:\n1. Python\n2. Java\n3. Julia",
      "metadata": {
        "tags": [],
        "editable": true,
        "slideshow": {
          "slide_type": ""
        },
        "jp-MarkdownHeadingCollapsed": true
      }
    },
    {
      "id": "40fb5aac-5a47-4370-9a4d-976319f4fcbd",
      "cell_type": "markdown",
      "source": "H3 5-dslibraries.png\n1.\n2.\n3.",
      "metadata": {
        "jp-MarkdownHeadingCollapsed": true
      }
    },
    {
      "id": "74513c20-f7af-4103-a8c0-f078ddaf93f5",
      "cell_type": "markdown",
      "source": "| Data Science Tools |\n\n|Three Development environment open source tools used in Data Science|\n|Anaconda|\n|Jupyter Notebooks|\n|PyCharm|",
      "metadata": {}
    },
    {
      "id": "fdabcca5-0fae-4d78-af91-ce3e9ae96572",
      "cell_type": "markdown",
      "source": "H3 7 Below are a few examples of evaluating arithmatic expressions in Python",
      "metadata": {}
    },
    {
      "id": "4cd5c8a2-c314-426b-b3f4-d809e350b187",
      "cell_type": "markdown",
      "source": "# This is a simple arithmetic expression to multiply then add integers",
      "metadata": {}
    },
    {
      "id": "936afdcf-6195-42b5-95a4-ed3197ab91d2",
      "cell_type": "code",
      "source": "print((3 * 4)+5)",
      "metadata": {
        "trusted": true
      },
      "outputs": [
        {
          "name": "stdout",
          "output_type": "stream",
          "text": "17\n"
        }
      ],
      "execution_count": 4
    },
    {
      "id": "da8e6651-3f42-4643-9609-b6a235e8d492",
      "cell_type": "markdown",
      "source": "# This cell will convert 200 minutes to hours by dividing by 60",
      "metadata": {}
    },
    {
      "id": "ac8c6410-b3a4-45d3-bd0e-b5c00b299e66",
      "cell_type": "markdown",
      "source": "minutes = 200\nhours = 60\nminutes/hours ",
      "metadata": {}
    },
    {
      "id": "7a7ec42b-74af-49ac-b99a-27109b89dc88",
      "cell_type": "markdown",
      "source": "",
      "metadata": {}
    }
  ]
}